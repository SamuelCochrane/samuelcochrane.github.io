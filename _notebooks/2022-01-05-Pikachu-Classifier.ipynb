{
  "nbformat": 4,
  "nbformat_minor": 0,
  "metadata": {
    "colab": {
      "name": "Pikachu_Classifier.ipynb",
      "provenance": [],
      "collapsed_sections": [
        "Ff0xUCzq3dYs",
        "KMqQvjZD9kTm",
        "ggusD0Ica6Cu",
        "nSNyV4H6AX_m",
        "aSFbNqE-9YCH"
      ],
      "mount_file_id": "1Kc5aLgwfL2_3qmC9goN_tgsnDzEfS4yf",
      "authorship_tag": "ABX9TyMmFp9ObgbmnotSqkv1v6k4"
    },
    "kernelspec": {
      "name": "python3",
      "display_name": "Python 3"
    },
    "language_info": {
      "name": "python"
    },
    "widgets": {
      "application/vnd.jupyter.widget-state+json": {
        "f6e0421a05f04bc2a16554c84789dc32": {
          "model_module": "@jupyter-widgets/controls",
          "model_name": "HBoxModel",
          "model_module_version": "1.5.0",
          "state": {
            "_view_name": "HBoxView",
            "_dom_classes": [],
            "_model_name": "HBoxModel",
            "_view_module": "@jupyter-widgets/controls",
            "_model_module_version": "1.5.0",
            "_view_count": null,
            "_view_module_version": "1.5.0",
            "box_style": "",
            "layout": "IPY_MODEL_cd83495db3ce48199cf0af8d7123f7e6",
            "_model_module": "@jupyter-widgets/controls",
            "children": [
              "IPY_MODEL_acada7b81d8f43ee9b785aa63545b4fd",
              "IPY_MODEL_fe122d55c0234242bf87827c399db871",
              "IPY_MODEL_26afc051715543cebe23756901ceea86"
            ]
          }
        },
        "cd83495db3ce48199cf0af8d7123f7e6": {
          "model_module": "@jupyter-widgets/base",
          "model_name": "LayoutModel",
          "model_module_version": "1.2.0",
          "state": {
            "_view_name": "LayoutView",
            "grid_template_rows": null,
            "right": null,
            "justify_content": null,
            "_view_module": "@jupyter-widgets/base",
            "overflow": null,
            "_model_module_version": "1.2.0",
            "_view_count": null,
            "flex_flow": null,
            "width": null,
            "min_width": null,
            "border": null,
            "align_items": null,
            "bottom": null,
            "_model_module": "@jupyter-widgets/base",
            "top": null,
            "grid_column": null,
            "overflow_y": null,
            "overflow_x": null,
            "grid_auto_flow": null,
            "grid_area": null,
            "grid_template_columns": null,
            "flex": null,
            "_model_name": "LayoutModel",
            "justify_items": null,
            "grid_row": null,
            "max_height": null,
            "align_content": null,
            "visibility": null,
            "align_self": null,
            "height": null,
            "min_height": null,
            "padding": null,
            "grid_auto_rows": null,
            "grid_gap": null,
            "max_width": null,
            "order": null,
            "_view_module_version": "1.2.0",
            "grid_template_areas": null,
            "object_position": null,
            "object_fit": null,
            "grid_auto_columns": null,
            "margin": null,
            "display": null,
            "left": null
          }
        },
        "acada7b81d8f43ee9b785aa63545b4fd": {
          "model_module": "@jupyter-widgets/controls",
          "model_name": "HTMLModel",
          "model_module_version": "1.5.0",
          "state": {
            "_view_name": "HTMLView",
            "style": "IPY_MODEL_d2ec78855d714b979c25de04bf9247a4",
            "_dom_classes": [],
            "description": "",
            "_model_name": "HTMLModel",
            "placeholder": "​",
            "_view_module": "@jupyter-widgets/controls",
            "_model_module_version": "1.5.0",
            "value": "100%",
            "_view_count": null,
            "_view_module_version": "1.5.0",
            "description_tooltip": null,
            "_model_module": "@jupyter-widgets/controls",
            "layout": "IPY_MODEL_d7c801786abb4473bc1d39892c19665e"
          }
        },
        "fe122d55c0234242bf87827c399db871": {
          "model_module": "@jupyter-widgets/controls",
          "model_name": "FloatProgressModel",
          "model_module_version": "1.5.0",
          "state": {
            "_view_name": "ProgressView",
            "style": "IPY_MODEL_7596db078e554dd8acfc6c1d35bdab33",
            "_dom_classes": [],
            "description": "",
            "_model_name": "FloatProgressModel",
            "bar_style": "success",
            "max": 46830571,
            "_view_module": "@jupyter-widgets/controls",
            "_model_module_version": "1.5.0",
            "value": 46830571,
            "_view_count": null,
            "_view_module_version": "1.5.0",
            "orientation": "horizontal",
            "min": 0,
            "description_tooltip": null,
            "_model_module": "@jupyter-widgets/controls",
            "layout": "IPY_MODEL_e5e711519fcc4d4796cecc66db4d4575"
          }
        },
        "26afc051715543cebe23756901ceea86": {
          "model_module": "@jupyter-widgets/controls",
          "model_name": "HTMLModel",
          "model_module_version": "1.5.0",
          "state": {
            "_view_name": "HTMLView",
            "style": "IPY_MODEL_78ce32d2093f4d48baccc0535e5d9e3f",
            "_dom_classes": [],
            "description": "",
            "_model_name": "HTMLModel",
            "placeholder": "​",
            "_view_module": "@jupyter-widgets/controls",
            "_model_module_version": "1.5.0",
            "value": " 44.7M/44.7M [00:00&lt;00:00, 128MB/s]",
            "_view_count": null,
            "_view_module_version": "1.5.0",
            "description_tooltip": null,
            "_model_module": "@jupyter-widgets/controls",
            "layout": "IPY_MODEL_ff1a581689014a11a841c367d1230404"
          }
        },
        "d2ec78855d714b979c25de04bf9247a4": {
          "model_module": "@jupyter-widgets/controls",
          "model_name": "DescriptionStyleModel",
          "model_module_version": "1.5.0",
          "state": {
            "_view_name": "StyleView",
            "_model_name": "DescriptionStyleModel",
            "description_width": "",
            "_view_module": "@jupyter-widgets/base",
            "_model_module_version": "1.5.0",
            "_view_count": null,
            "_view_module_version": "1.2.0",
            "_model_module": "@jupyter-widgets/controls"
          }
        },
        "d7c801786abb4473bc1d39892c19665e": {
          "model_module": "@jupyter-widgets/base",
          "model_name": "LayoutModel",
          "model_module_version": "1.2.0",
          "state": {
            "_view_name": "LayoutView",
            "grid_template_rows": null,
            "right": null,
            "justify_content": null,
            "_view_module": "@jupyter-widgets/base",
            "overflow": null,
            "_model_module_version": "1.2.0",
            "_view_count": null,
            "flex_flow": null,
            "width": null,
            "min_width": null,
            "border": null,
            "align_items": null,
            "bottom": null,
            "_model_module": "@jupyter-widgets/base",
            "top": null,
            "grid_column": null,
            "overflow_y": null,
            "overflow_x": null,
            "grid_auto_flow": null,
            "grid_area": null,
            "grid_template_columns": null,
            "flex": null,
            "_model_name": "LayoutModel",
            "justify_items": null,
            "grid_row": null,
            "max_height": null,
            "align_content": null,
            "visibility": null,
            "align_self": null,
            "height": null,
            "min_height": null,
            "padding": null,
            "grid_auto_rows": null,
            "grid_gap": null,
            "max_width": null,
            "order": null,
            "_view_module_version": "1.2.0",
            "grid_template_areas": null,
            "object_position": null,
            "object_fit": null,
            "grid_auto_columns": null,
            "margin": null,
            "display": null,
            "left": null
          }
        },
        "7596db078e554dd8acfc6c1d35bdab33": {
          "model_module": "@jupyter-widgets/controls",
          "model_name": "ProgressStyleModel",
          "model_module_version": "1.5.0",
          "state": {
            "_view_name": "StyleView",
            "_model_name": "ProgressStyleModel",
            "description_width": "",
            "_view_module": "@jupyter-widgets/base",
            "_model_module_version": "1.5.0",
            "_view_count": null,
            "_view_module_version": "1.2.0",
            "bar_color": null,
            "_model_module": "@jupyter-widgets/controls"
          }
        },
        "e5e711519fcc4d4796cecc66db4d4575": {
          "model_module": "@jupyter-widgets/base",
          "model_name": "LayoutModel",
          "model_module_version": "1.2.0",
          "state": {
            "_view_name": "LayoutView",
            "grid_template_rows": null,
            "right": null,
            "justify_content": null,
            "_view_module": "@jupyter-widgets/base",
            "overflow": null,
            "_model_module_version": "1.2.0",
            "_view_count": null,
            "flex_flow": null,
            "width": null,
            "min_width": null,
            "border": null,
            "align_items": null,
            "bottom": null,
            "_model_module": "@jupyter-widgets/base",
            "top": null,
            "grid_column": null,
            "overflow_y": null,
            "overflow_x": null,
            "grid_auto_flow": null,
            "grid_area": null,
            "grid_template_columns": null,
            "flex": null,
            "_model_name": "LayoutModel",
            "justify_items": null,
            "grid_row": null,
            "max_height": null,
            "align_content": null,
            "visibility": null,
            "align_self": null,
            "height": null,
            "min_height": null,
            "padding": null,
            "grid_auto_rows": null,
            "grid_gap": null,
            "max_width": null,
            "order": null,
            "_view_module_version": "1.2.0",
            "grid_template_areas": null,
            "object_position": null,
            "object_fit": null,
            "grid_auto_columns": null,
            "margin": null,
            "display": null,
            "left": null
          }
        },
        "78ce32d2093f4d48baccc0535e5d9e3f": {
          "model_module": "@jupyter-widgets/controls",
          "model_name": "DescriptionStyleModel",
          "model_module_version": "1.5.0",
          "state": {
            "_view_name": "StyleView",
            "_model_name": "DescriptionStyleModel",
            "description_width": "",
            "_view_module": "@jupyter-widgets/base",
            "_model_module_version": "1.5.0",
            "_view_count": null,
            "_view_module_version": "1.2.0",
            "_model_module": "@jupyter-widgets/controls"
          }
        },
        "ff1a581689014a11a841c367d1230404": {
          "model_module": "@jupyter-widgets/base",
          "model_name": "LayoutModel",
          "model_module_version": "1.2.0",
          "state": {
            "_view_name": "LayoutView",
            "grid_template_rows": null,
            "right": null,
            "justify_content": null,
            "_view_module": "@jupyter-widgets/base",
            "overflow": null,
            "_model_module_version": "1.2.0",
            "_view_count": null,
            "flex_flow": null,
            "width": null,
            "min_width": null,
            "border": null,
            "align_items": null,
            "bottom": null,
            "_model_module": "@jupyter-widgets/base",
            "top": null,
            "grid_column": null,
            "overflow_y": null,
            "overflow_x": null,
            "grid_auto_flow": null,
            "grid_area": null,
            "grid_template_columns": null,
            "flex": null,
            "_model_name": "LayoutModel",
            "justify_items": null,
            "grid_row": null,
            "max_height": null,
            "align_content": null,
            "visibility": null,
            "align_self": null,
            "height": null,
            "min_height": null,
            "padding": null,
            "grid_auto_rows": null,
            "grid_gap": null,
            "max_width": null,
            "order": null,
            "_view_module_version": "1.2.0",
            "grid_template_areas": null,
            "object_position": null,
            "object_fit": null,
            "grid_auto_columns": null,
            "margin": null,
            "display": null,
            "left": null
          }
        },
        "944dea4154e34f518b7e1a259ed4ef38": {
          "model_module": "@jupyter-widgets/controls",
          "model_name": "VBoxModel",
          "model_module_version": "1.5.0",
          "state": {
            "_view_name": "VBoxView",
            "_dom_classes": [],
            "_model_name": "VBoxModel",
            "_view_module": "@jupyter-widgets/controls",
            "_model_module_version": "1.5.0",
            "_view_count": null,
            "_view_module_version": "1.5.0",
            "box_style": "",
            "layout": "IPY_MODEL_e14d628ff92f40268359cc791ab7a914",
            "_model_module": "@jupyter-widgets/controls",
            "children": [
              "IPY_MODEL_3764fc61d3414379badf700242ec664d",
              "IPY_MODEL_f8c20c0316354dd6bd7d609bb160ecb1",
              "IPY_MODEL_7dab6b050ab64ea481b8451402b37a23",
              "IPY_MODEL_b05f7e2e0e7f4f6d81b41d58ad0b4b9e",
              "IPY_MODEL_efe25a6403b346dbafedbf04117ee051"
            ]
          }
        },
        "e14d628ff92f40268359cc791ab7a914": {
          "model_module": "@jupyter-widgets/base",
          "model_name": "LayoutModel",
          "model_module_version": "1.2.0",
          "state": {
            "_view_name": "LayoutView",
            "grid_template_rows": null,
            "right": null,
            "justify_content": null,
            "_view_module": "@jupyter-widgets/base",
            "overflow": null,
            "_model_module_version": "1.2.0",
            "_view_count": null,
            "flex_flow": null,
            "width": null,
            "min_width": null,
            "border": null,
            "align_items": null,
            "bottom": null,
            "_model_module": "@jupyter-widgets/base",
            "top": null,
            "grid_column": null,
            "overflow_y": null,
            "overflow_x": null,
            "grid_auto_flow": null,
            "grid_area": null,
            "grid_template_columns": null,
            "flex": null,
            "_model_name": "LayoutModel",
            "justify_items": null,
            "grid_row": null,
            "max_height": null,
            "align_content": null,
            "visibility": null,
            "align_self": null,
            "height": null,
            "min_height": null,
            "padding": null,
            "grid_auto_rows": null,
            "grid_gap": null,
            "max_width": null,
            "order": null,
            "_view_module_version": "1.2.0",
            "grid_template_areas": null,
            "object_position": null,
            "object_fit": null,
            "grid_auto_columns": null,
            "margin": null,
            "display": null,
            "left": null
          }
        },
        "3764fc61d3414379badf700242ec664d": {
          "model_module": "@jupyter-widgets/controls",
          "model_name": "LabelModel",
          "model_module_version": "1.5.0",
          "state": {
            "_view_name": "LabelView",
            "style": "IPY_MODEL_f6ac44426e574efab1193b5fbef41bac",
            "_dom_classes": [],
            "description": "",
            "_model_name": "LabelModel",
            "placeholder": "​",
            "_view_module": "@jupyter-widgets/controls",
            "_model_module_version": "1.5.0",
            "value": "Select your 'mon!",
            "_view_count": null,
            "_view_module_version": "1.5.0",
            "description_tooltip": null,
            "_model_module": "@jupyter-widgets/controls",
            "layout": "IPY_MODEL_9cb712f7cacc42dda3755c5c2f34d4c2"
          }
        },
        "f8c20c0316354dd6bd7d609bb160ecb1": {
          "model_module": "@jupyter-widgets/controls",
          "model_name": "ImageModel",
          "model_module_version": "1.5.0",
          "state": {
            "_view_name": "ImageView",
            "_dom_classes": [],
            "_model_name": "ImageModel",
            "format": "png",
            "_view_module": "@jupyter-widgets/controls",
            "_model_module_version": "1.5.0",
            "_view_count": null,
            "width": "640",
            "_view_module_version": "1.5.0",
            "layout": "IPY_MODEL_be78cc01f4844a43be69d62a026c666c",
            "height": "480",
            "_model_module": "@jupyter-widgets/controls"
          }
        },
        "7dab6b050ab64ea481b8451402b37a23": {
          "model_module": "@jupyter-widgets/output",
          "model_name": "OutputModel",
          "model_module_version": "1.0.0",
          "state": {
            "_view_name": "OutputView",
            "msg_id": "",
            "_dom_classes": [],
            "_model_name": "OutputModel",
            "outputs": [],
            "_view_module": "@jupyter-widgets/output",
            "_model_module_version": "1.0.0",
            "_view_count": null,
            "_view_module_version": "1.0.0",
            "layout": "IPY_MODEL_ac38ef3276ef4da494703451bac885e9",
            "_model_module": "@jupyter-widgets/output"
          }
        },
        "b05f7e2e0e7f4f6d81b41d58ad0b4b9e": {
          "model_module": "@jupyter-widgets/controls",
          "model_name": "HBoxModel",
          "model_module_version": "1.5.0",
          "state": {
            "_view_name": "HBoxView",
            "_dom_classes": [],
            "_model_name": "HBoxModel",
            "_view_module": "@jupyter-widgets/controls",
            "_model_module_version": "1.5.0",
            "_view_count": null,
            "_view_module_version": "1.5.0",
            "box_style": "",
            "layout": "IPY_MODEL_c10da1be6a7544e3bf162d82c83ce7fa",
            "_model_module": "@jupyter-widgets/controls",
            "children": [
              "IPY_MODEL_4ab1e5380e5f4902a895620a8ff535dc",
              "IPY_MODEL_7eed640eaecd4a96b13f8cfd0cf9b590"
            ]
          }
        },
        "efe25a6403b346dbafedbf04117ee051": {
          "model_module": "@jupyter-widgets/controls",
          "model_name": "LabelModel",
          "model_module_version": "1.5.0",
          "state": {
            "_view_name": "LabelView",
            "style": "IPY_MODEL_32c1052cfec44b008c8fb2a05996f642",
            "_dom_classes": [],
            "description": "",
            "_model_name": "LabelModel",
            "placeholder": "​",
            "_view_module": "@jupyter-widgets/controls",
            "_model_module_version": "1.5.0",
            "value": "",
            "_view_count": null,
            "_view_module_version": "1.5.0",
            "description_tooltip": null,
            "_model_module": "@jupyter-widgets/controls",
            "layout": "IPY_MODEL_c9bc5f9f3f274a2aabf1f3645afab74c"
          }
        },
        "f6ac44426e574efab1193b5fbef41bac": {
          "model_module": "@jupyter-widgets/controls",
          "model_name": "DescriptionStyleModel",
          "model_module_version": "1.5.0",
          "state": {
            "_view_name": "StyleView",
            "_model_name": "DescriptionStyleModel",
            "description_width": "",
            "_view_module": "@jupyter-widgets/base",
            "_model_module_version": "1.5.0",
            "_view_count": null,
            "_view_module_version": "1.2.0",
            "_model_module": "@jupyter-widgets/controls"
          }
        },
        "9cb712f7cacc42dda3755c5c2f34d4c2": {
          "model_module": "@jupyter-widgets/base",
          "model_name": "LayoutModel",
          "model_module_version": "1.2.0",
          "state": {
            "_view_name": "LayoutView",
            "grid_template_rows": null,
            "right": null,
            "justify_content": null,
            "_view_module": "@jupyter-widgets/base",
            "overflow": null,
            "_model_module_version": "1.2.0",
            "_view_count": null,
            "flex_flow": null,
            "width": null,
            "min_width": null,
            "border": null,
            "align_items": null,
            "bottom": null,
            "_model_module": "@jupyter-widgets/base",
            "top": null,
            "grid_column": null,
            "overflow_y": null,
            "overflow_x": null,
            "grid_auto_flow": null,
            "grid_area": null,
            "grid_template_columns": null,
            "flex": null,
            "_model_name": "LayoutModel",
            "justify_items": null,
            "grid_row": null,
            "max_height": null,
            "align_content": null,
            "visibility": null,
            "align_self": null,
            "height": null,
            "min_height": null,
            "padding": null,
            "grid_auto_rows": null,
            "grid_gap": null,
            "max_width": null,
            "order": null,
            "_view_module_version": "1.2.0",
            "grid_template_areas": null,
            "object_position": null,
            "object_fit": null,
            "grid_auto_columns": null,
            "margin": null,
            "display": null,
            "left": null
          }
        },
        "be78cc01f4844a43be69d62a026c666c": {
          "model_module": "@jupyter-widgets/base",
          "model_name": "LayoutModel",
          "model_module_version": "1.2.0",
          "state": {
            "_view_name": "LayoutView",
            "grid_template_rows": null,
            "right": null,
            "justify_content": null,
            "_view_module": "@jupyter-widgets/base",
            "overflow": null,
            "_model_module_version": "1.2.0",
            "_view_count": null,
            "flex_flow": null,
            "width": null,
            "min_width": null,
            "border": null,
            "align_items": null,
            "bottom": null,
            "_model_module": "@jupyter-widgets/base",
            "top": null,
            "grid_column": null,
            "overflow_y": null,
            "overflow_x": null,
            "grid_auto_flow": null,
            "grid_area": null,
            "grid_template_columns": null,
            "flex": null,
            "_model_name": "LayoutModel",
            "justify_items": null,
            "grid_row": null,
            "max_height": null,
            "align_content": null,
            "visibility": null,
            "align_self": null,
            "height": null,
            "min_height": null,
            "padding": null,
            "grid_auto_rows": null,
            "grid_gap": null,
            "max_width": null,
            "order": null,
            "_view_module_version": "1.2.0",
            "grid_template_areas": null,
            "object_position": null,
            "object_fit": null,
            "grid_auto_columns": null,
            "margin": null,
            "display": null,
            "left": null
          }
        },
        "ac38ef3276ef4da494703451bac885e9": {
          "model_module": "@jupyter-widgets/base",
          "model_name": "LayoutModel",
          "model_module_version": "1.2.0",
          "state": {
            "_view_name": "LayoutView",
            "grid_template_rows": null,
            "right": null,
            "justify_content": null,
            "_view_module": "@jupyter-widgets/base",
            "overflow": null,
            "_model_module_version": "1.2.0",
            "_view_count": null,
            "flex_flow": null,
            "width": null,
            "min_width": null,
            "border": null,
            "align_items": null,
            "bottom": null,
            "_model_module": "@jupyter-widgets/base",
            "top": null,
            "grid_column": null,
            "overflow_y": null,
            "overflow_x": null,
            "grid_auto_flow": null,
            "grid_area": null,
            "grid_template_columns": null,
            "flex": null,
            "_model_name": "LayoutModel",
            "justify_items": null,
            "grid_row": null,
            "max_height": null,
            "align_content": null,
            "visibility": null,
            "align_self": null,
            "height": null,
            "min_height": null,
            "padding": null,
            "grid_auto_rows": null,
            "grid_gap": null,
            "max_width": null,
            "order": null,
            "_view_module_version": "1.2.0",
            "grid_template_areas": null,
            "object_position": null,
            "object_fit": null,
            "grid_auto_columns": null,
            "margin": null,
            "display": null,
            "left": null
          }
        },
        "c10da1be6a7544e3bf162d82c83ce7fa": {
          "model_module": "@jupyter-widgets/base",
          "model_name": "LayoutModel",
          "model_module_version": "1.2.0",
          "state": {
            "_view_name": "LayoutView",
            "grid_template_rows": null,
            "right": null,
            "justify_content": null,
            "_view_module": "@jupyter-widgets/base",
            "overflow": null,
            "_model_module_version": "1.2.0",
            "_view_count": null,
            "flex_flow": null,
            "width": null,
            "min_width": null,
            "border": null,
            "align_items": null,
            "bottom": null,
            "_model_module": "@jupyter-widgets/base",
            "top": null,
            "grid_column": null,
            "overflow_y": null,
            "overflow_x": null,
            "grid_auto_flow": null,
            "grid_area": null,
            "grid_template_columns": null,
            "flex": null,
            "_model_name": "LayoutModel",
            "justify_items": null,
            "grid_row": null,
            "max_height": null,
            "align_content": null,
            "visibility": null,
            "align_self": null,
            "height": null,
            "min_height": null,
            "padding": null,
            "grid_auto_rows": null,
            "grid_gap": null,
            "max_width": null,
            "order": null,
            "_view_module_version": "1.2.0",
            "grid_template_areas": null,
            "object_position": null,
            "object_fit": null,
            "grid_auto_columns": null,
            "margin": null,
            "display": null,
            "left": null
          }
        },
        "4ab1e5380e5f4902a895620a8ff535dc": {
          "model_module": "@jupyter-widgets/controls",
          "model_name": "ButtonModel",
          "model_module_version": "1.5.0",
          "state": {
            "_view_name": "ButtonView",
            "style": "IPY_MODEL_de2423669f5e4cb99a77e67b219dc98b",
            "_dom_classes": [],
            "description": "Camera",
            "_model_name": "ButtonModel",
            "button_style": "",
            "_view_module": "@jupyter-widgets/controls",
            "_model_module_version": "1.5.0",
            "tooltip": "",
            "_view_count": null,
            "disabled": false,
            "_view_module_version": "1.5.0",
            "layout": "IPY_MODEL_d66e883c7ee14ebd8eaf7da9914d9219",
            "_model_module": "@jupyter-widgets/controls",
            "icon": ""
          }
        },
        "7eed640eaecd4a96b13f8cfd0cf9b590": {
          "model_module": "@jupyter-widgets/controls",
          "model_name": "FileUploadModel",
          "model_module_version": "1.5.0",
          "state": {
            "_view_name": "FileUploadView",
            "_counter": 0,
            "style": "IPY_MODEL_6adcc99357f74a238836e8fa2740534c",
            "_dom_classes": [],
            "description": "Upload",
            "multiple": false,
            "_model_name": "FileUploadModel",
            "data": [],
            "button_style": "",
            "_view_module": "@jupyter-widgets/controls",
            "_model_module_version": "1.5.0",
            "accept": "",
            "_view_count": null,
            "disabled": false,
            "_view_module_version": "1.5.0",
            "error": "",
            "description_tooltip": null,
            "metadata": [],
            "_model_module": "@jupyter-widgets/controls",
            "layout": "IPY_MODEL_6f4090ef81304ff896ab6973a58239b0",
            "icon": "upload"
          }
        },
        "32c1052cfec44b008c8fb2a05996f642": {
          "model_module": "@jupyter-widgets/controls",
          "model_name": "DescriptionStyleModel",
          "model_module_version": "1.5.0",
          "state": {
            "_view_name": "StyleView",
            "_model_name": "DescriptionStyleModel",
            "description_width": "",
            "_view_module": "@jupyter-widgets/base",
            "_model_module_version": "1.5.0",
            "_view_count": null,
            "_view_module_version": "1.2.0",
            "_model_module": "@jupyter-widgets/controls"
          }
        },
        "c9bc5f9f3f274a2aabf1f3645afab74c": {
          "model_module": "@jupyter-widgets/base",
          "model_name": "LayoutModel",
          "model_module_version": "1.2.0",
          "state": {
            "_view_name": "LayoutView",
            "grid_template_rows": null,
            "right": null,
            "justify_content": null,
            "_view_module": "@jupyter-widgets/base",
            "overflow": null,
            "_model_module_version": "1.2.0",
            "_view_count": null,
            "flex_flow": null,
            "width": null,
            "min_width": null,
            "border": null,
            "align_items": null,
            "bottom": null,
            "_model_module": "@jupyter-widgets/base",
            "top": null,
            "grid_column": null,
            "overflow_y": null,
            "overflow_x": null,
            "grid_auto_flow": null,
            "grid_area": null,
            "grid_template_columns": null,
            "flex": null,
            "_model_name": "LayoutModel",
            "justify_items": null,
            "grid_row": null,
            "max_height": null,
            "align_content": null,
            "visibility": null,
            "align_self": null,
            "height": null,
            "min_height": null,
            "padding": null,
            "grid_auto_rows": null,
            "grid_gap": null,
            "max_width": null,
            "order": null,
            "_view_module_version": "1.2.0",
            "grid_template_areas": null,
            "object_position": null,
            "object_fit": null,
            "grid_auto_columns": null,
            "margin": null,
            "display": null,
            "left": null
          }
        },
        "de2423669f5e4cb99a77e67b219dc98b": {
          "model_module": "@jupyter-widgets/controls",
          "model_name": "ButtonStyleModel",
          "model_module_version": "1.5.0",
          "state": {
            "_view_name": "StyleView",
            "_model_name": "ButtonStyleModel",
            "_view_module": "@jupyter-widgets/base",
            "_model_module_version": "1.5.0",
            "_view_count": null,
            "button_color": null,
            "font_weight": "",
            "_view_module_version": "1.2.0",
            "_model_module": "@jupyter-widgets/controls"
          }
        },
        "d66e883c7ee14ebd8eaf7da9914d9219": {
          "model_module": "@jupyter-widgets/base",
          "model_name": "LayoutModel",
          "model_module_version": "1.2.0",
          "state": {
            "_view_name": "LayoutView",
            "grid_template_rows": null,
            "right": null,
            "justify_content": null,
            "_view_module": "@jupyter-widgets/base",
            "overflow": null,
            "_model_module_version": "1.2.0",
            "_view_count": null,
            "flex_flow": null,
            "width": null,
            "min_width": null,
            "border": null,
            "align_items": null,
            "bottom": null,
            "_model_module": "@jupyter-widgets/base",
            "top": null,
            "grid_column": null,
            "overflow_y": null,
            "overflow_x": null,
            "grid_auto_flow": null,
            "grid_area": null,
            "grid_template_columns": null,
            "flex": null,
            "_model_name": "LayoutModel",
            "justify_items": null,
            "grid_row": null,
            "max_height": null,
            "align_content": null,
            "visibility": null,
            "align_self": null,
            "height": null,
            "min_height": null,
            "padding": null,
            "grid_auto_rows": null,
            "grid_gap": null,
            "max_width": null,
            "order": null,
            "_view_module_version": "1.2.0",
            "grid_template_areas": null,
            "object_position": null,
            "object_fit": null,
            "grid_auto_columns": null,
            "margin": null,
            "display": null,
            "left": null
          }
        },
        "6adcc99357f74a238836e8fa2740534c": {
          "model_module": "@jupyter-widgets/controls",
          "model_name": "ButtonStyleModel",
          "model_module_version": "1.5.0",
          "state": {
            "_view_name": "StyleView",
            "_model_name": "ButtonStyleModel",
            "_view_module": "@jupyter-widgets/base",
            "_model_module_version": "1.5.0",
            "_view_count": null,
            "button_color": null,
            "font_weight": "",
            "_view_module_version": "1.2.0",
            "_model_module": "@jupyter-widgets/controls"
          }
        },
        "6f4090ef81304ff896ab6973a58239b0": {
          "model_module": "@jupyter-widgets/base",
          "model_name": "LayoutModel",
          "model_module_version": "1.2.0",
          "state": {
            "_view_name": "LayoutView",
            "grid_template_rows": null,
            "right": null,
            "justify_content": null,
            "_view_module": "@jupyter-widgets/base",
            "overflow": null,
            "_model_module_version": "1.2.0",
            "_view_count": null,
            "flex_flow": null,
            "width": null,
            "min_width": null,
            "border": null,
            "align_items": null,
            "bottom": null,
            "_model_module": "@jupyter-widgets/base",
            "top": null,
            "grid_column": null,
            "overflow_y": null,
            "overflow_x": null,
            "grid_auto_flow": null,
            "grid_area": null,
            "grid_template_columns": null,
            "flex": null,
            "_model_name": "LayoutModel",
            "justify_items": null,
            "grid_row": null,
            "max_height": null,
            "align_content": null,
            "visibility": null,
            "align_self": null,
            "height": null,
            "min_height": null,
            "padding": null,
            "grid_auto_rows": null,
            "grid_gap": null,
            "max_width": null,
            "order": null,
            "_view_module_version": "1.2.0",
            "grid_template_areas": null,
            "object_position": null,
            "object_fit": null,
            "grid_auto_columns": null,
            "margin": null,
            "display": null,
            "left": null
          }
        }
      }
    },
    "accelerator": "GPU"
  },
  "cells": [
    {
      "cell_type": "markdown",
      "source": [
        "---\n",
        "title: I built a Pikachu classifer because there's like 8 of them.\n",
        "# toc: false\n",
        "style: border #fill, border\n",
        "color: success #primary / secondary / success / danger / warning / info / light / dark (choose one only)\n",
        "image: https://remnote-user-data.s3.amazonaws.com/x4aWaP4M69AxYfnmxF0EqJvbd2S-ZLwct9l6DkN5x-QO5pwQW3LhUbLsXO7b5WVtrB4Z4G2nnMp03JW1HzwqFFiwZMp7DT1nP8HQrMcSpWohVhjSTzO3E3De7ulKOubv.gif\n",
        "categories:\n",
        "  - Portfolio\n",
        "tags: \n",
        "  - FastAI\n",
        "  - CNN\n",
        "  - Machine Learning\n",
        "published: true\n",
        "---"
      ],
      "metadata": {
        "id": "CjuEoqyaFzWC"
      }
    },
    {
      "cell_type": "markdown",
      "metadata": {
        "id": "Ff0xUCzq3dYs"
      },
      "source": [
        "# Environment Setup (required)"
      ]
    },
    {
      "cell_type": "code",
      "source": [
        "# type the following to make any cell get skipped during a \"Run All\"\n",
        "# %%skip True\n",
        "def skip(line, cell=None):\n",
        "    '''Skips execution of the current line/cell if line evaluates to True.'''\n",
        "    if eval(line):\n",
        "        return\n",
        "\n",
        "    get_ipython().run_cell(cell)\n",
        "\n",
        "def load_ipython_extension(shell):\n",
        "    '''Registers the skip magic when the extension loads.'''\n",
        "    shell.register_magic_function(skip, 'line_cell')\n",
        "\n",
        "def unload_ipython_extension(shell):\n",
        "    '''Unregisters the skip magic when the extension unloads.'''\n",
        "    del shell.magics_manager.magics['cell']['skip']\n",
        "    \n",
        "    \n",
        "load_ipython_extension(get_ipython())"
      ],
      "metadata": {
        "id": "zpf_rV6ZhEZI"
      },
      "execution_count": null,
      "outputs": []
    },
    {
      "cell_type": "markdown",
      "source": [
        "install fastai"
      ],
      "metadata": {
        "id": "D8elra6FX6AZ"
      }
    },
    {
      "cell_type": "code",
      "metadata": {
        "id": "rNqx82Z2lhIz"
      },
      "source": [
        "! [ -e /content ] && pip install -Uqq fastai --upgrade"
      ],
      "execution_count": null,
      "outputs": []
    },
    {
      "cell_type": "code",
      "metadata": {
        "colab": {
          "base_uri": "https://localhost:8080/"
        },
        "id": "4Gkhaikt2ZV2",
        "outputId": "16e130cc-1294-4631-d62b-fb3b7477fa00"
      },
      "source": [
        "import fastai\n",
        "print(fastai.__version__) # should show >=2.0, not 1.0.61"
      ],
      "execution_count": null,
      "outputs": [
        {
          "output_type": "stream",
          "name": "stdout",
          "text": [
            "2.5.3\n"
          ]
        }
      ]
    },
    {
      "cell_type": "markdown",
      "source": [
        "install imagemagick"
      ],
      "metadata": {
        "id": "IN89dQcl2VVx"
      }
    },
    {
      "cell_type": "code",
      "source": [
        "!apt install imagemagick"
      ],
      "metadata": {
        "id": "IgfqvJWI2Ubs",
        "colab": {
          "base_uri": "https://localhost:8080/"
        },
        "outputId": "0ce633e0-822a-42b7-9332-87e2185a382d"
      },
      "execution_count": null,
      "outputs": [
        {
          "output_type": "stream",
          "name": "stdout",
          "text": [
            "Reading package lists... Done\n",
            "Building dependency tree       \n",
            "Reading state information... Done\n",
            "imagemagick is already the newest version (8:6.9.7.4+dfsg-16ubuntu6.12).\n",
            "0 upgraded, 0 newly installed, 0 to remove and 37 not upgraded.\n"
          ]
        }
      ]
    },
    {
      "cell_type": "markdown",
      "source": [
        "import libraries"
      ],
      "metadata": {
        "id": "E4DeR2KQX9OQ"
      }
    },
    {
      "cell_type": "code",
      "metadata": {
        "id": "JpRlbFz7x5GL"
      },
      "source": [
        "from fastai.vision.all import *\n",
        "import fastai.vision.widgets as fastwidgets\n",
        "from ipywidgets import widgets as iwidgets\n",
        "from pandas.api.types import CategoricalDtype\n",
        "import matplotlib as mpl\n",
        "import graphviz\n",
        "import math   \n",
        "#from google.colab import widgets"
      ],
      "execution_count": null,
      "outputs": []
    },
    {
      "cell_type": "markdown",
      "source": [
        "Set up data directory (including Drive)"
      ],
      "metadata": {
        "id": "gkIMapJ-X_P8"
      }
    },
    {
      "cell_type": "code",
      "source": [
        "import os\n",
        "from google.colab import drive\n",
        "MOUNTPOINT = '/content/gdrive'\n",
        "DATADIR = os.path.join(MOUNTPOINT, 'My Drive', 'Colab Data', 'Pikachu Classifier')\n",
        "drive.mount(MOUNTPOINT)"
      ],
      "metadata": {
        "colab": {
          "base_uri": "https://localhost:8080/"
        },
        "id": "6UO4GIG4431C",
        "outputId": "7045d2ca-e5cf-48f3-8d7f-42f061c06fb1"
      },
      "execution_count": null,
      "outputs": [
        {
          "output_type": "stream",
          "name": "stdout",
          "text": [
            "Mounted at /content/gdrive\n"
          ]
        }
      ]
    },
    {
      "cell_type": "code",
      "source": [
        "path = Path(DATADIR)\n",
        "if not path.exists():\n",
        "    os.makedirs(path)\n",
        "os.chdir(path)\n",
        "\n",
        "os.getcwd()"
      ],
      "metadata": {
        "colab": {
          "base_uri": "https://localhost:8080/",
          "height": 35
        },
        "id": "oj44-WP06C-6",
        "outputId": "362b6729-19ce-4720-8e5d-16fb1780715e"
      },
      "execution_count": null,
      "outputs": [
        {
          "output_type": "execute_result",
          "data": {
            "application/vnd.google.colaboratory.intrinsic+json": {
              "type": "string"
            },
            "text/plain": [
              "'/content/gdrive/My Drive/Colab Data/Pikachu Classifier'"
            ]
          },
          "metadata": {},
          "execution_count": 7
        }
      ]
    },
    {
      "cell_type": "markdown",
      "source": [
        "Set up image search"
      ],
      "metadata": {
        "id": "dGQkAVi7YE-9"
      }
    },
    {
      "cell_type": "code",
      "metadata": {
        "id": "aX6lYybL3mih"
      },
      "source": [
        "bingApiKey = '4a19d080f5b24133ac280f96334932fa'"
      ],
      "execution_count": null,
      "outputs": []
    },
    {
      "cell_type": "code",
      "metadata": {
        "id": "Q7bTi8H2x_xj"
      },
      "source": [
        "def search_images_bing(key, term, min_sz=128, max_images=150):    \n",
        "     params = {'q':term, 'count':max_images, 'min_height':min_sz, 'min_width':min_sz}\n",
        "     headers = {\"Ocp-Apim-Subscription-Key\":key}\n",
        "     search_url = \"https://api.bing.microsoft.com/v7.0/images/search\"\n",
        "     response = requests.get(search_url, headers=headers, params=params)\n",
        "     response.raise_for_status()\n",
        "     search_results = response.json()    \n",
        "     return L(search_results['value'])"
      ],
      "execution_count": null,
      "outputs": []
    },
    {
      "cell_type": "code",
      "source": [
        "def remove_failed_downloads(path):\n",
        "  fns = get_image_files(path) #get filenames\n",
        "  failed = verify_images(fns) #find corrupted/failed files\n",
        "  failed.map(Path.unlink)     #remove those files"
      ],
      "metadata": {
        "id": "VkcNISTlvIlq"
      },
      "execution_count": null,
      "outputs": []
    },
    {
      "cell_type": "code",
      "source": [
        "#sets a transparent background to white for all images\n",
        "def remove_transparent_bg(path): \n",
        "  %cd $path\n",
        "  ! mogrify -background white -alpha remove -alpha off"
      ],
      "metadata": {
        "id": "amm7VSGE0oqW"
      },
      "execution_count": null,
      "outputs": []
    },
    {
      "cell_type": "markdown",
      "source": [
        "# Test run of image downloading code (optional)"
      ],
      "metadata": {
        "id": "KMqQvjZD9kTm"
      }
    },
    {
      "cell_type": "code",
      "source": [
        "\n",
        "#@markdown Skip this section (Yes/No)\n",
        "skip_section = True #@param {type:\"boolean\"}\n"
      ],
      "metadata": {
        "cellView": "form",
        "id": "_2M9MJmBS1xs"
      },
      "execution_count": null,
      "outputs": []
    },
    {
      "cell_type": "code",
      "metadata": {
        "id": "N8UEvFtbzrm1"
      },
      "source": [
        "%%skip skip_section\n",
        "results = search_images_bing(bingApiKey, 'minun pokemon', max_images=10) # returns a list of image urls, among other things\n",
        "urls = results.attrgot('contentUrl') #get the array of the URLs\n",
        "len(urls), urls[0] #should show {max_images}, for {max_images} retrieved URLs"
      ],
      "execution_count": null,
      "outputs": []
    },
    {
      "cell_type": "code",
      "metadata": {
        "id": "SeYDiK3l4ia8"
      },
      "source": [
        "%%skip skip_section\n",
        "path = os.path.join(DATADIR,\"pokemon\") #folder for all pokemon\n",
        "dest = Path(os.path.join(path,\"minun\")) #subfolder for just this one\n",
        "#create the data path if needed\n",
        "if not Path(dest).exists():\n",
        "  os.makedirs(dest)"
      ],
      "execution_count": null,
      "outputs": []
    },
    {
      "cell_type": "code",
      "source": [
        "%%skip skip_section\n",
        "download_images(dest, urls=urls, n_workers=0)\n",
        "len(os.listdir(path)) #how many images did we download? (this may be less than {max_images} due to some urls being invalid)"
      ],
      "metadata": {
        "id": "wAWjL8JixfkF"
      },
      "execution_count": null,
      "outputs": []
    },
    {
      "cell_type": "code",
      "metadata": {
        "id": "o8kSEOPY5gd2"
      },
      "source": [
        "%%skip skip_section\n",
        "#what does the first image in this class' folder look like?\n",
        "id = os.listdir(Path(path))[0]\n",
        "im = Image.open(os.path.join(path, id))\n",
        "im.to_thumb(128,128)"
      ],
      "execution_count": null,
      "outputs": []
    },
    {
      "cell_type": "markdown",
      "source": [
        "working ok? Now let's download our pokemon for real."
      ],
      "metadata": {
        "id": "Hu24m8rVEA2c"
      }
    },
    {
      "cell_type": "code",
      "source": [
        "#delete our test batch\n"
      ],
      "metadata": {
        "id": "hmk1sVeIcy_c"
      },
      "execution_count": null,
      "outputs": []
    },
    {
      "cell_type": "markdown",
      "source": [
        "# Setting up the data (required)"
      ],
      "metadata": {
        "id": "ggusD0Ica6Cu"
      }
    },
    {
      "cell_type": "markdown",
      "source": [
        "Download the image dataset"
      ],
      "metadata": {
        "id": "RpZKybCdC2vg"
      }
    },
    {
      "cell_type": "code",
      "metadata": {
        "id": "Gc0b0D1Z8j-f",
        "colab": {
          "base_uri": "https://localhost:8080/",
          "height": 571
        },
        "outputId": "4b206abf-8f00-4379-d49f-16139f197a8d"
      },
      "source": [
        "pokemon_list = ['pikachu','mimikyu',\n",
        "                'plusle -minun', #adding the minus operator to exclude images \n",
        "                'minun -plusle', #of both together, since they're so common\n",
        "                'dedenne', 'togedemaru', \n",
        "                'morpeko', 'emolga', 'pachirisu']\n",
        "num_images = 50\n",
        "path = os.path.join(DATADIR,\"pokemon\")\n",
        "if not Path(path).exists():\n",
        "  os.makedirs(path)\n",
        "\n",
        "grid = widgets.Grid(3, 3)\n",
        "\n",
        "\n",
        "for i, o in enumerate(pokemon_list):\n",
        "  dest = Path(os.path.join(path,o))\n",
        "  if not dest.exists(): ## skips existing datasets that are already DL'd\n",
        "    dest.mkdir(exist_ok=True)\n",
        "    results = search_images_bing(bingApiKey, f'{o} pokemon')\n",
        "    urls = results.attrgot('contentUrl')\n",
        "    download_images(dest, urls=results.attrgot('contentUrl'), max_pics=num_images, n_workers=0)\n",
        "    remove_failed_downloads(dest)\n",
        "    remove_transparent_bg(dest)\n",
        "  with grid.output_to(i%3,math.floor(i/3)):\n",
        "    print(o)\n",
        "    print(\"DL'd Images: \", len(os.listdir(dest)))\n",
        "    exampleimg = os.path.join(dest, os.listdir(Path(dest))[0])\n",
        "    display(Image.open(exampleimg).to_thumb(128,128))\n",
        "    print()\n"
      ],
      "execution_count": null,
      "outputs": [
        {
          "output_type": "display_data",
          "data": {
            "text/html": [
              "<style>\n",
              "       table#id2, #id2 > tbody > tr > th, #id2 > tbody > tr > td {\n",
              "         border: 1px solid lightgray;\n",
              "         border-collapse:collapse;\n",
              "         \n",
              "        }</style>"
            ],
            "text/plain": [
              "<IPython.core.display.HTML object>"
            ]
          },
          "metadata": {}
        },
        {
          "output_type": "display_data",
          "data": {
            "text/html": [
              "<table id=id2><tr><td id=id2-0-0></td><td id=id2-0-1></td><td id=id2-0-2></td></tr><tr><td id=id2-1-0></td><td id=id2-1-1></td><td id=id2-1-2></td></tr><tr><td id=id2-2-0></td><td id=id2-2-1></td><td id=id2-2-2></td></tr></table>"
            ],
            "text/plain": [
              "<IPython.core.display.HTML object>"
            ]
          },
          "metadata": {}
        },
        {
          "output_type": "display_data",
          "data": {
            "application/javascript": [
              "window[\"9788f1de-7362-11ec-822e-0242ac1c0002\"] = google.colab.output.getActiveOutputArea();\n",
              "//# sourceURL=js_efdc3955d8"
            ],
            "text/plain": [
              "<IPython.core.display.Javascript object>"
            ]
          },
          "metadata": {}
        },
        {
          "output_type": "display_data",
          "data": {
            "application/javascript": [
              "window[\"97895016-7362-11ec-822e-0242ac1c0002\"] = document.querySelector(\"#id2-0-0\");\n",
              "//# sourceURL=js_5fdced03a8"
            ],
            "text/plain": [
              "<IPython.core.display.Javascript object>"
            ]
          },
          "metadata": {}
        },
        {
          "output_type": "display_data",
          "data": {
            "application/javascript": [
              "window[\"978a1ef6-7362-11ec-822e-0242ac1c0002\"] = google.colab.output.setActiveOutputArea(window[\"97895016-7362-11ec-822e-0242ac1c0002\"]);\n",
              "//# sourceURL=js_8a4fb03b00"
            ],
            "text/plain": [
              "<IPython.core.display.Javascript object>"
            ]
          },
          "metadata": {}
        },
        {
          "output_type": "stream",
          "name": "stdout",
          "text": [
            "pikachu\n",
            "DL'd Images:  135\n"
          ]
        },
        {
          "output_type": "display_data",
          "data": {
            "image/png": "[encoded data removed]",
            "text/plain": [
              "<PIL.Image.Image image mode=RGB size=128x128 at 0x7FDEBC4B3290>"
            ]
          },
          "metadata": {}
        },
        {
          "output_type": "stream",
          "name": "stdout",
          "text": [
            "\n"
          ]
        },
        {
          "output_type": "display_data",
          "data": {
            "application/javascript": [
              "window[\"98ebda50-7362-11ec-822e-0242ac1c0002\"] = google.colab.output.setActiveOutputArea(window[\"9788f1de-7362-11ec-822e-0242ac1c0002\"]);\n",
              "//# sourceURL=js_1131f12ace"
            ],
            "text/plain": [
              "<IPython.core.display.Javascript object>"
            ]
          },
          "metadata": {}
        },
        {
          "output_type": "display_data",
          "data": {
            "application/javascript": [
              "window[\"98f0b034-7362-11ec-822e-0242ac1c0002\"] = google.colab.output.getActiveOutputArea();\n",
              "//# sourceURL=js_a27215d683"
            ],
            "text/plain": [
              "<IPython.core.display.Javascript object>"
            ]
          },
          "metadata": {}
        },
        {
          "output_type": "display_data",
          "data": {
            "application/javascript": [
              "window[\"98f1ba10-7362-11ec-822e-0242ac1c0002\"] = document.querySelector(\"#id2-1-0\");\n",
              "//# sourceURL=js_e2da21c5d3"
            ],
            "text/plain": [
              "<IPython.core.display.Javascript object>"
            ]
          },
          "metadata": {}
        },
        {
          "output_type": "display_data",
          "data": {
            "application/javascript": [
              "window[\"98f20d58-7362-11ec-822e-0242ac1c0002\"] = google.colab.output.setActiveOutputArea(window[\"98f1ba10-7362-11ec-822e-0242ac1c0002\"]);\n",
              "//# sourceURL=js_9d9cac991e"
            ],
            "text/plain": [
              "<IPython.core.display.Javascript object>"
            ]
          },
          "metadata": {}
        },
        {
          "output_type": "stream",
          "name": "stdout",
          "text": [
            "mimikyu\n",
            "DL'd Images:  142\n"
          ]
        },
        {
          "output_type": "display_data",
          "data": {
            "image/png": "[encoded data removed]",
            "text/plain": [
              "<PIL.Image.Image image mode=RGBA size=109x128 at 0x7FDEBC4574D0>"
            ]
          },
          "metadata": {}
        },
        {
          "output_type": "stream",
          "name": "stdout",
          "text": [
            "\n"
          ]
        },
        {
          "output_type": "display_data",
          "data": {
            "application/javascript": [
              "window[\"9a390806-7362-11ec-822e-0242ac1c0002\"] = google.colab.output.setActiveOutputArea(window[\"98f0b034-7362-11ec-822e-0242ac1c0002\"]);\n",
              "//# sourceURL=js_e41856e8d4"
            ],
            "text/plain": [
              "<IPython.core.display.Javascript object>"
            ]
          },
          "metadata": {}
        },
        {
          "output_type": "display_data",
          "data": {
            "application/javascript": [
              "window[\"9a3d5d02-7362-11ec-822e-0242ac1c0002\"] = google.colab.output.getActiveOutputArea();\n",
              "//# sourceURL=js_6e43dc883b"
            ],
            "text/plain": [
              "<IPython.core.display.Javascript object>"
            ]
          },
          "metadata": {}
        },
        {
          "output_type": "display_data",
          "data": {
            "application/javascript": [
              "window[\"9a3db234-7362-11ec-822e-0242ac1c0002\"] = document.querySelector(\"#id2-2-0\");\n",
              "//# sourceURL=js_a8768e575e"
            ],
            "text/plain": [
              "<IPython.core.display.Javascript object>"
            ]
          },
          "metadata": {}
        },
        {
          "output_type": "display_data",
          "data": {
            "application/javascript": [
              "window[\"9a3e1670-7362-11ec-822e-0242ac1c0002\"] = google.colab.output.setActiveOutputArea(window[\"9a3db234-7362-11ec-822e-0242ac1c0002\"]);\n",
              "//# sourceURL=js_6138b42208"
            ],
            "text/plain": [
              "<IPython.core.display.Javascript object>"
            ]
          },
          "metadata": {}
        },
        {
          "output_type": "stream",
          "name": "stdout",
          "text": [
            "plusle -minun\n",
            "DL'd Images:  144\n"
          ]
        },
        {
          "output_type": "display_data",
          "data": {
            "image/png": "[encoded data removed]",
            "text/plain": [
              "<PIL.Image.Image image mode=P size=97x128 at 0x7FDEBC4930D0>"
            ]
          },
          "metadata": {}
        },
        {
          "output_type": "stream",
          "name": "stdout",
          "text": [
            "\n"
          ]
        },
        {
          "output_type": "display_data",
          "data": {
            "application/javascript": [
              "window[\"9b55c9ea-7362-11ec-822e-0242ac1c0002\"] = google.colab.output.setActiveOutputArea(window[\"9a3d5d02-7362-11ec-822e-0242ac1c0002\"]);\n",
              "//# sourceURL=js_c1fe49aaf7"
            ],
            "text/plain": [
              "<IPython.core.display.Javascript object>"
            ]
          },
          "metadata": {}
        },
        {
          "output_type": "display_data",
          "data": {
            "application/javascript": [
              "window[\"9b5a2c60-7362-11ec-822e-0242ac1c0002\"] = google.colab.output.getActiveOutputArea();\n",
              "//# sourceURL=js_2312abf500"
            ],
            "text/plain": [
              "<IPython.core.display.Javascript object>"
            ]
          },
          "metadata": {}
        },
        {
          "output_type": "display_data",
          "data": {
            "application/javascript": [
              "window[\"9b5a8a70-7362-11ec-822e-0242ac1c0002\"] = document.querySelector(\"#id2-0-1\");\n",
              "//# sourceURL=js_8afe5532e4"
            ],
            "text/plain": [
              "<IPython.core.display.Javascript object>"
            ]
          },
          "metadata": {}
        },
        {
          "output_type": "display_data",
          "data": {
            "application/javascript": [
              "window[\"9b5af0c8-7362-11ec-822e-0242ac1c0002\"] = google.colab.output.setActiveOutputArea(window[\"9b5a8a70-7362-11ec-822e-0242ac1c0002\"]);\n",
              "//# sourceURL=js_b3c7f35b96"
            ],
            "text/plain": [
              "<IPython.core.display.Javascript object>"
            ]
          },
          "metadata": {}
        },
        {
          "output_type": "stream",
          "name": "stdout",
          "text": [
            "minun -plusle\n",
            "DL'd Images:  145\n"
          ]
        },
        {
          "output_type": "display_data",
          "data": {
            "image/png": "[encoded data removed]",
            "text/plain": [
              "<PIL.Image.Image image mode=RGBA size=97x128 at 0x7FE00C57B510>"
            ]
          },
          "metadata": {}
        },
        {
          "output_type": "stream",
          "name": "stdout",
          "text": [
            "\n"
          ]
        },
        {
          "output_type": "display_data",
          "data": {
            "application/javascript": [
              "window[\"9c63b2e8-7362-11ec-822e-0242ac1c0002\"] = google.colab.output.setActiveOutputArea(window[\"9b5a2c60-7362-11ec-822e-0242ac1c0002\"]);\n",
              "//# sourceURL=js_720fecac63"
            ],
            "text/plain": [
              "<IPython.core.display.Javascript object>"
            ]
          },
          "metadata": {}
        },
        {
          "output_type": "display_data",
          "data": {
            "application/javascript": [
              "window[\"9c6875f8-7362-11ec-822e-0242ac1c0002\"] = google.colab.output.getActiveOutputArea();\n",
              "//# sourceURL=js_3094e1197a"
            ],
            "text/plain": [
              "<IPython.core.display.Javascript object>"
            ]
          },
          "metadata": {}
        },
        {
          "output_type": "display_data",
          "data": {
            "application/javascript": [
              "window[\"9c68eb0a-7362-11ec-822e-0242ac1c0002\"] = document.querySelector(\"#id2-1-1\");\n",
              "//# sourceURL=js_fd38e5ceb7"
            ],
            "text/plain": [
              "<IPython.core.display.Javascript object>"
            ]
          },
          "metadata": {}
        },
        {
          "output_type": "display_data",
          "data": {
            "application/javascript": [
              "window[\"9c699e92-7362-11ec-822e-0242ac1c0002\"] = google.colab.output.setActiveOutputArea(window[\"9c68eb0a-7362-11ec-822e-0242ac1c0002\"]);\n",
              "//# sourceURL=js_396a57cc48"
            ],
            "text/plain": [
              "<IPython.core.display.Javascript object>"
            ]
          },
          "metadata": {}
        },
        {
          "output_type": "stream",
          "name": "stdout",
          "text": [
            "dedenne\n",
            "DL'd Images:  147\n"
          ]
        },
        {
          "output_type": "display_data",
          "data": {
            "image/png": "[encoded data removed]",
            "text/plain": [
              "<PIL.Image.Image image mode=RGBA size=128x118 at 0x7FDEBC5E6650>"
            ]
          },
          "metadata": {}
        },
        {
          "output_type": "stream",
          "name": "stdout",
          "text": [
            "\n"
          ]
        },
        {
          "output_type": "display_data",
          "data": {
            "application/javascript": [
              "window[\"9d826124-7362-11ec-822e-0242ac1c0002\"] = google.colab.output.setActiveOutputArea(window[\"9c6875f8-7362-11ec-822e-0242ac1c0002\"]);\n",
              "//# sourceURL=js_05db4ddfe2"
            ],
            "text/plain": [
              "<IPython.core.display.Javascript object>"
            ]
          },
          "metadata": {}
        },
        {
          "output_type": "display_data",
          "data": {
            "application/javascript": [
              "window[\"9d869ac8-7362-11ec-822e-0242ac1c0002\"] = google.colab.output.getActiveOutputArea();\n",
              "//# sourceURL=js_9e4c04818a"
            ],
            "text/plain": [
              "<IPython.core.display.Javascript object>"
            ]
          },
          "metadata": {}
        },
        {
          "output_type": "display_data",
          "data": {
            "application/javascript": [
              "window[\"9d871f48-7362-11ec-822e-0242ac1c0002\"] = document.querySelector(\"#id2-2-1\");\n",
              "//# sourceURL=js_4eaced4599"
            ],
            "text/plain": [
              "<IPython.core.display.Javascript object>"
            ]
          },
          "metadata": {}
        },
        {
          "output_type": "display_data",
          "data": {
            "application/javascript": [
              "window[\"9d879af4-7362-11ec-822e-0242ac1c0002\"] = google.colab.output.setActiveOutputArea(window[\"9d871f48-7362-11ec-822e-0242ac1c0002\"]);\n",
              "//# sourceURL=js_91e6bf6a80"
            ],
            "text/plain": [
              "<IPython.core.display.Javascript object>"
            ]
          },
          "metadata": {}
        },
        {
          "output_type": "stream",
          "name": "stdout",
          "text": [
            "togedemaru\n",
            "DL'd Images:  148\n"
          ]
        },
        {
          "output_type": "display_data",
          "data": {
            "image/png": "[encoded data removed]",
            "text/plain": [
              "<PIL.Image.Image image mode=RGBA size=128x118 at 0x7FDFEA419850>"
            ]
          },
          "metadata": {}
        },
        {
          "output_type": "stream",
          "name": "stdout",
          "text": [
            "\n"
          ]
        },
        {
          "output_type": "display_data",
          "data": {
            "application/javascript": [
              "window[\"9e9fa09e-7362-11ec-822e-0242ac1c0002\"] = google.colab.output.setActiveOutputArea(window[\"9d869ac8-7362-11ec-822e-0242ac1c0002\"]);\n",
              "//# sourceURL=js_020f7f0e0b"
            ],
            "text/plain": [
              "<IPython.core.display.Javascript object>"
            ]
          },
          "metadata": {}
        },
        {
          "output_type": "display_data",
          "data": {
            "application/javascript": [
              "window[\"9ea44a90-7362-11ec-822e-0242ac1c0002\"] = google.colab.output.getActiveOutputArea();\n",
              "//# sourceURL=js_9ce612b982"
            ],
            "text/plain": [
              "<IPython.core.display.Javascript object>"
            ]
          },
          "metadata": {}
        },
        {
          "output_type": "display_data",
          "data": {
            "application/javascript": [
              "window[\"9ea563a8-7362-11ec-822e-0242ac1c0002\"] = document.querySelector(\"#id2-0-2\");\n",
              "//# sourceURL=js_e02a13ca2d"
            ],
            "text/plain": [
              "<IPython.core.display.Javascript object>"
            ]
          },
          "metadata": {}
        },
        {
          "output_type": "display_data",
          "data": {
            "application/javascript": [
              "window[\"9ea5d964-7362-11ec-822e-0242ac1c0002\"] = google.colab.output.setActiveOutputArea(window[\"9ea563a8-7362-11ec-822e-0242ac1c0002\"]);\n",
              "//# sourceURL=js_90aea800dd"
            ],
            "text/plain": [
              "<IPython.core.display.Javascript object>"
            ]
          },
          "metadata": {}
        },
        {
          "output_type": "stream",
          "name": "stdout",
          "text": [
            "morpeko\n",
            "DL'd Images:  134\n"
          ]
        },
        {
          "output_type": "display_data",
          "data": {
            "image/png": "[encoded data removed]",
            "text/plain": [
              "<PIL.Image.Image image mode=RGB size=101x128 at 0x7FDEDD3A5110>"
            ]
          },
          "metadata": {}
        },
        {
          "output_type": "stream",
          "name": "stdout",
          "text": [
            "\n"
          ]
        },
        {
          "output_type": "display_data",
          "data": {
            "application/javascript": [
              "window[\"9fa5e4ee-7362-11ec-822e-0242ac1c0002\"] = google.colab.output.setActiveOutputArea(window[\"9ea44a90-7362-11ec-822e-0242ac1c0002\"]);\n",
              "//# sourceURL=js_07dfa1dad7"
            ],
            "text/plain": [
              "<IPython.core.display.Javascript object>"
            ]
          },
          "metadata": {}
        },
        {
          "output_type": "display_data",
          "data": {
            "application/javascript": [
              "window[\"9fa86ab6-7362-11ec-822e-0242ac1c0002\"] = google.colab.output.getActiveOutputArea();\n",
              "//# sourceURL=js_1f793e385d"
            ],
            "text/plain": [
              "<IPython.core.display.Javascript object>"
            ]
          },
          "metadata": {}
        },
        {
          "output_type": "display_data",
          "data": {
            "application/javascript": [
              "window[\"9fa8b688-7362-11ec-822e-0242ac1c0002\"] = document.querySelector(\"#id2-1-2\");\n",
              "//# sourceURL=js_68ba183cf0"
            ],
            "text/plain": [
              "<IPython.core.display.Javascript object>"
            ]
          },
          "metadata": {}
        },
        {
          "output_type": "display_data",
          "data": {
            "application/javascript": [
              "window[\"9fa90bec-7362-11ec-822e-0242ac1c0002\"] = google.colab.output.setActiveOutputArea(window[\"9fa8b688-7362-11ec-822e-0242ac1c0002\"]);\n",
              "//# sourceURL=js_3f70925520"
            ],
            "text/plain": [
              "<IPython.core.display.Javascript object>"
            ]
          },
          "metadata": {}
        },
        {
          "output_type": "stream",
          "name": "stdout",
          "text": [
            "emolga\n",
            "DL'd Images:  139\n"
          ]
        },
        {
          "output_type": "display_data",
          "data": {
            "image/png": "[encoded data removed]",
            "text/plain": [
              "<PIL.Image.Image image mode=RGBA size=128x118 at 0x7FDEBC457710>"
            ]
          },
          "metadata": {}
        },
        {
          "output_type": "stream",
          "name": "stdout",
          "text": [
            "\n"
          ]
        },
        {
          "output_type": "display_data",
          "data": {
            "application/javascript": [
              "window[\"a0c354f6-7362-11ec-822e-0242ac1c0002\"] = google.colab.output.setActiveOutputArea(window[\"9fa86ab6-7362-11ec-822e-0242ac1c0002\"]);\n",
              "//# sourceURL=js_96693255d2"
            ],
            "text/plain": [
              "<IPython.core.display.Javascript object>"
            ]
          },
          "metadata": {}
        },
        {
          "output_type": "display_data",
          "data": {
            "application/javascript": [
              "window[\"a0c79db8-7362-11ec-822e-0242ac1c0002\"] = google.colab.output.getActiveOutputArea();\n",
              "//# sourceURL=js_b063d239b1"
            ],
            "text/plain": [
              "<IPython.core.display.Javascript object>"
            ]
          },
          "metadata": {}
        },
        {
          "output_type": "display_data",
          "data": {
            "application/javascript": [
              "window[\"a0c82bca-7362-11ec-822e-0242ac1c0002\"] = document.querySelector(\"#id2-2-2\");\n",
              "//# sourceURL=js_b0b8314af7"
            ],
            "text/plain": [
              "<IPython.core.display.Javascript object>"
            ]
          },
          "metadata": {}
        },
        {
          "output_type": "display_data",
          "data": {
            "application/javascript": [
              "window[\"a0c899fc-7362-11ec-822e-0242ac1c0002\"] = google.colab.output.setActiveOutputArea(window[\"a0c82bca-7362-11ec-822e-0242ac1c0002\"]);\n",
              "//# sourceURL=js_40b6012013"
            ],
            "text/plain": [
              "<IPython.core.display.Javascript object>"
            ]
          },
          "metadata": {}
        },
        {
          "output_type": "stream",
          "name": "stdout",
          "text": [
            "pachirisu\n",
            "DL'd Images:  144\n"
          ]
        },
        {
          "output_type": "display_data",
          "data": {
            "image/png": "[encoded data removed]",
            "text/plain": [
              "<PIL.Image.Image image mode=RGB size=128x114 at 0x7FE00C57B510>"
            ]
          },
          "metadata": {}
        },
        {
          "output_type": "stream",
          "name": "stdout",
          "text": [
            "\n"
          ]
        },
        {
          "output_type": "display_data",
          "data": {
            "application/javascript": [
              "window[\"a1e274a2-7362-11ec-822e-0242ac1c0002\"] = google.colab.output.setActiveOutputArea(window[\"a0c79db8-7362-11ec-822e-0242ac1c0002\"]);\n",
              "//# sourceURL=js_a1b6e1a251"
            ],
            "text/plain": [
              "<IPython.core.display.Javascript object>"
            ]
          },
          "metadata": {}
        }
      ]
    },
    {
      "cell_type": "markdown",
      "source": [
        "Setting up data objects"
      ],
      "metadata": {
        "id": "Ty3nV6nzAUzE"
      }
    },
    {
      "cell_type": "code",
      "source": [
        "#setting up the datablock, this will act as a unified 'template'\n",
        "#for our dataloaders for each pokemon.\n",
        "pokemonBlock = DataBlock(\n",
        "\tblocks=(ImageBlock, CategoryBlock),    \t\n",
        "\tget_items=get_image_files,    \n",
        "\tsplitter=RandomSplitter(valid_pct=0.2, seed=42),    \n",
        "\tget_y=parent_label,    \n",
        "\titem_tfms=RandomResizedCrop(224, min_scale=0.5), #randomly crop the image on each Epoch\n",
        "  batch_tfms=aug_transforms()# Utility func to flip, rotate, zoom, warp,etc. the images\n",
        " )"
      ],
      "metadata": {
        "id": "WKHlZuIJb_fv"
      },
      "execution_count": null,
      "outputs": []
    },
    {
      "cell_type": "code",
      "source": [
        "#setting up our dataloaders\n",
        "dls = pokemonBlock.dataloaders(path)\n",
        "dls.train.show_batch(max_n=8, nrows=2) #show me some data"
      ],
      "metadata": {
        "colab": {
          "base_uri": "https://localhost:8080/",
          "height": 514
        },
        "id": "Z76nH_F6rTma",
        "outputId": "a86dc70d-03a7-40f3-e6ad-58abba5a8ce2"
      },
      "execution_count": null,
      "outputs": [
        {
          "output_type": "stream",
          "name": "stderr",
          "text": [
            "/usr/local/lib/python3.7/dist-packages/torch/_tensor.py:1051: UserWarning: torch.solve is deprecated in favor of torch.linalg.solveand will be removed in a future PyTorch release.\n",
            "torch.linalg.solve has its arguments reversed and does not return the LU factorization.\n",
            "To get the LU factorization see torch.lu, which can be used with torch.lu_solve or torch.lu_unpack.\n",
            "X = torch.solve(B, A).solution\n",
            "should be replaced with\n",
            "X = torch.linalg.solve(A, B) (Triggered internally at  ../aten/src/ATen/native/BatchLinearAlgebra.cpp:766.)\n",
            "  ret = func(*args, **kwargs)\n"
          ]
        },
        {
          "output_type": "display_data",
          "data": {
            "image/png": "[encoded data removed]",
            "text/plain": [
              "<Figure size 864x432 with 8 Axes>"
            ]
          },
          "metadata": {
            "needs_background": "light"
          }
        }
      ]
    },
    {
      "cell_type": "markdown",
      "source": [
        "# Build our model (required)"
      ],
      "metadata": {
        "id": "nSNyV4H6AX_m"
      }
    },
    {
      "cell_type": "code",
      "source": [
        "learn = cnn_learner(dls, resnet18, metrics=error_rate)\n",
        "learn.fine_tune(4)"
      ],
      "metadata": {
        "colab": {
          "base_uri": "https://localhost:8080/",
          "referenced_widgets": [
            "f6e0421a05f04bc2a16554c84789dc32",
            "cd83495db3ce48199cf0af8d7123f7e6",
            "acada7b81d8f43ee9b785aa63545b4fd",
            "fe122d55c0234242bf87827c399db871",
            "26afc051715543cebe23756901ceea86",
            "d2ec78855d714b979c25de04bf9247a4",
            "d7c801786abb4473bc1d39892c19665e",
            "7596db078e554dd8acfc6c1d35bdab33",
            "e5e711519fcc4d4796cecc66db4d4575",
            "78ce32d2093f4d48baccc0535e5d9e3f",
            "ff1a581689014a11a841c367d1230404"
          ]
        },
        "id": "dKAZtSxKtXYV",
        "outputId": "dffc1b26-2eed-4b3c-9faa-d8fda10a5794"
      },
      "execution_count": null,
      "outputs": [
        {
          "output_type": "stream",
          "name": "stderr",
          "text": [
            "Downloading: \"https://download.pytorch.org/models/resnet18-f37072fd.pth\" to /root/.cache/torch/hub/checkpoints/resnet18-f37072fd.pth\n"
          ]
        },
        {
          "output_type": "display_data",
          "data": {
            "application/vnd.jupyter.widget-view+json": {
              "model_id": "f6e0421a05f04bc2a16554c84789dc32",
              "version_minor": 0,
              "version_major": 2
            },
            "text/plain": [
              "  0%|          | 0.00/44.7M [00:00<?, ?B/s]"
            ]
          },
          "metadata": {}
        },
        {
          "output_type": "display_data",
          "data": {
            "text/html": [
              "<table border=\"1\" class=\"dataframe\">\n",
              "  <thead>\n",
              "    <tr style=\"text-align: left;\">\n",
              "      <th>epoch</th>\n",
              "      <th>train_loss</th>\n",
              "      <th>valid_loss</th>\n",
              "      <th>error_rate</th>\n",
              "      <th>time</th>\n",
              "    </tr>\n",
              "  </thead>\n",
              "  <tbody>\n",
              "    <tr>\n",
              "      <td>0</td>\n",
              "      <td>2.586856</td>\n",
              "      <td>0.741542</td>\n",
              "      <td>0.247059</td>\n",
              "      <td>05:58</td>\n",
              "    </tr>\n",
              "  </tbody>\n",
              "</table>"
            ],
            "text/plain": [
              "<IPython.core.display.HTML object>"
            ]
          },
          "metadata": {}
        },
        {
          "output_type": "stream",
          "name": "stderr",
          "text": [
            "/usr/local/lib/python3.7/dist-packages/PIL/Image.py:960: UserWarning: Palette images with Transparency expressed in bytes should be converted to RGBA images\n",
            "  \"Palette images with Transparency expressed in bytes should be \"\n",
            "/usr/local/lib/python3.7/dist-packages/PIL/Image.py:960: UserWarning: Palette images with Transparency expressed in bytes should be converted to RGBA images\n",
            "  \"Palette images with Transparency expressed in bytes should be \"\n",
            "/usr/local/lib/python3.7/dist-packages/PIL/Image.py:960: UserWarning: Palette images with Transparency expressed in bytes should be converted to RGBA images\n",
            "  \"Palette images with Transparency expressed in bytes should be \"\n",
            "/usr/local/lib/python3.7/dist-packages/PIL/Image.py:960: UserWarning: Palette images with Transparency expressed in bytes should be converted to RGBA images\n",
            "  \"Palette images with Transparency expressed in bytes should be \"\n"
          ]
        },
        {
          "output_type": "display_data",
          "data": {
            "text/html": [
              "<table border=\"1\" class=\"dataframe\">\n",
              "  <thead>\n",
              "    <tr style=\"text-align: left;\">\n",
              "      <th>epoch</th>\n",
              "      <th>train_loss</th>\n",
              "      <th>valid_loss</th>\n",
              "      <th>error_rate</th>\n",
              "      <th>time</th>\n",
              "    </tr>\n",
              "  </thead>\n",
              "  <tbody>\n",
              "    <tr>\n",
              "      <td>0</td>\n",
              "      <td>0.869628</td>\n",
              "      <td>0.499887</td>\n",
              "      <td>0.164706</td>\n",
              "      <td>00:28</td>\n",
              "    </tr>\n",
              "    <tr>\n",
              "      <td>1</td>\n",
              "      <td>0.676326</td>\n",
              "      <td>0.334388</td>\n",
              "      <td>0.098039</td>\n",
              "      <td>00:28</td>\n",
              "    </tr>\n",
              "    <tr>\n",
              "      <td>2</td>\n",
              "      <td>0.511067</td>\n",
              "      <td>0.290011</td>\n",
              "      <td>0.113725</td>\n",
              "      <td>00:28</td>\n",
              "    </tr>\n",
              "    <tr>\n",
              "      <td>3</td>\n",
              "      <td>0.410448</td>\n",
              "      <td>0.282395</td>\n",
              "      <td>0.109804</td>\n",
              "      <td>00:28</td>\n",
              "    </tr>\n",
              "  </tbody>\n",
              "</table>"
            ],
            "text/plain": [
              "<IPython.core.display.HTML object>"
            ]
          },
          "metadata": {}
        },
        {
          "output_type": "stream",
          "name": "stderr",
          "text": [
            "/usr/local/lib/python3.7/dist-packages/PIL/Image.py:960: UserWarning: Palette images with Transparency expressed in bytes should be converted to RGBA images\n",
            "  \"Palette images with Transparency expressed in bytes should be \"\n",
            "/usr/local/lib/python3.7/dist-packages/PIL/Image.py:960: UserWarning: Palette images with Transparency expressed in bytes should be converted to RGBA images\n",
            "  \"Palette images with Transparency expressed in bytes should be \"\n",
            "/usr/local/lib/python3.7/dist-packages/PIL/Image.py:960: UserWarning: Palette images with Transparency expressed in bytes should be converted to RGBA images\n",
            "  \"Palette images with Transparency expressed in bytes should be \"\n",
            "/usr/local/lib/python3.7/dist-packages/PIL/Image.py:960: UserWarning: Palette images with Transparency expressed in bytes should be converted to RGBA images\n",
            "  \"Palette images with Transparency expressed in bytes should be \"\n",
            "/usr/local/lib/python3.7/dist-packages/PIL/Image.py:960: UserWarning: Palette images with Transparency expressed in bytes should be converted to RGBA images\n",
            "  \"Palette images with Transparency expressed in bytes should be \"\n",
            "/usr/local/lib/python3.7/dist-packages/PIL/Image.py:960: UserWarning: Palette images with Transparency expressed in bytes should be converted to RGBA images\n",
            "  \"Palette images with Transparency expressed in bytes should be \"\n",
            "/usr/local/lib/python3.7/dist-packages/PIL/Image.py:960: UserWarning: Palette images with Transparency expressed in bytes should be converted to RGBA images\n",
            "  \"Palette images with Transparency expressed in bytes should be \"\n",
            "/usr/local/lib/python3.7/dist-packages/PIL/Image.py:960: UserWarning: Palette images with Transparency expressed in bytes should be converted to RGBA images\n",
            "  \"Palette images with Transparency expressed in bytes should be \"\n",
            "/usr/local/lib/python3.7/dist-packages/PIL/Image.py:960: UserWarning: Palette images with Transparency expressed in bytes should be converted to RGBA images\n",
            "  \"Palette images with Transparency expressed in bytes should be \"\n",
            "/usr/local/lib/python3.7/dist-packages/PIL/Image.py:960: UserWarning: Palette images with Transparency expressed in bytes should be converted to RGBA images\n",
            "  \"Palette images with Transparency expressed in bytes should be \"\n",
            "/usr/local/lib/python3.7/dist-packages/PIL/Image.py:960: UserWarning: Palette images with Transparency expressed in bytes should be converted to RGBA images\n",
            "  \"Palette images with Transparency expressed in bytes should be \"\n",
            "/usr/local/lib/python3.7/dist-packages/PIL/Image.py:960: UserWarning: Palette images with Transparency expressed in bytes should be converted to RGBA images\n",
            "  \"Palette images with Transparency expressed in bytes should be \"\n",
            "/usr/local/lib/python3.7/dist-packages/PIL/Image.py:960: UserWarning: Palette images with Transparency expressed in bytes should be converted to RGBA images\n",
            "  \"Palette images with Transparency expressed in bytes should be \"\n",
            "/usr/local/lib/python3.7/dist-packages/PIL/Image.py:960: UserWarning: Palette images with Transparency expressed in bytes should be converted to RGBA images\n",
            "  \"Palette images with Transparency expressed in bytes should be \"\n",
            "/usr/local/lib/python3.7/dist-packages/PIL/Image.py:960: UserWarning: Palette images with Transparency expressed in bytes should be converted to RGBA images\n",
            "  \"Palette images with Transparency expressed in bytes should be \"\n",
            "/usr/local/lib/python3.7/dist-packages/PIL/Image.py:960: UserWarning: Palette images with Transparency expressed in bytes should be converted to RGBA images\n",
            "  \"Palette images with Transparency expressed in bytes should be \"\n"
          ]
        }
      ]
    },
    {
      "cell_type": "code",
      "source": [
        "#graph how well it's doing (confusion matrix)\n",
        "interp = ClassificationInterpretation.from_learner(learn)\n",
        "interp.plot_confusion_matrix()"
      ],
      "metadata": {
        "id": "3-tGTETI1XS7",
        "colab": {
          "base_uri": "https://localhost:8080/"
        },
        "outputId": "25625c32-c932-418a-f75c-c87f6d783557"
      },
      "execution_count": null,
      "outputs": [
        {
          "output_type": "display_data",
          "data": {
            "text/html": [
              ""
            ],
            "text/plain": [
              "<IPython.core.display.HTML object>"
            ]
          },
          "metadata": {}
        },
        {
          "output_type": "stream",
          "name": "stderr",
          "text": [
            "/usr/local/lib/python3.7/dist-packages/PIL/Image.py:960: UserWarning: Palette images with Transparency expressed in bytes should be converted to RGBA images\n",
            "  \"Palette images with Transparency expressed in bytes should be \"\n",
            "/usr/local/lib/python3.7/dist-packages/PIL/Image.py:960: UserWarning: Palette images with Transparency expressed in bytes should be converted to RGBA images\n",
            "  \"Palette images with Transparency expressed in bytes should be \"\n"
          ]
        },
        {
          "output_type": "display_data",
          "data": {
            "image/png": "[encoded data removed]",
            "text/plain": [
              "<Figure size 432x288 with 1 Axes>"
            ]
          },
          "metadata": {
            "needs_background": "light"
          }
        }
      ]
    },
    {
      "cell_type": "code",
      "source": [
        "#save our model\n",
        "learn.export(\"pikachu_classifier\")"
      ],
      "metadata": {
        "id": "U5MgeWlTNIC3"
      },
      "execution_count": null,
      "outputs": []
    },
    {
      "cell_type": "markdown",
      "source": [
        "# Clean the data (optional)"
      ],
      "metadata": {
        "id": "aSFbNqE-9YCH"
      }
    },
    {
      "cell_type": "code",
      "source": [
        "\n",
        "#@markdown Skip this section (Yes/No)\n",
        "skip_section = True #@param {type:\"boolean\"}\n",
        "\n"
      ],
      "metadata": {
        "cellView": "form",
        "id": "FjeFlihWR2RI"
      },
      "execution_count": null,
      "outputs": []
    },
    {
      "cell_type": "code",
      "source": [
        "%%skip skip_section\n",
        "cleaner = fastwidgets.ImageClassifierCleaner(learn)\n",
        "cleaner"
      ],
      "metadata": {
        "id": "AZ9w1wMb32I7"
      },
      "execution_count": null,
      "outputs": []
    },
    {
      "cell_type": "code",
      "source": [
        "%%skip skip_section\n",
        "#move all the data we re-labeled to the proper folder\n",
        "for idx,cat in cleaner.change(): \n",
        "  shutil.move(str(cleaner.fns[idx]), Path(os.path.join(path, cat)))"
      ],
      "metadata": {
        "id": "WzLTPSA68yA-"
      },
      "execution_count": null,
      "outputs": []
    },
    {
      "cell_type": "code",
      "source": [
        "%%skip skip_section\n",
        "#move all the data we labeled as deleted to a \"deleted\" folder\n",
        "dest = os.path.join(Path(path).parent,\"deleted\")\n",
        "if not Path(dest).exists():\n",
        "  os.makedirs(dest)\n",
        "for idx in cleaner.delete(): \n",
        "  shutil.move(str(cleaner.fns[idx]), dest) #*\n",
        "  #*or use this to simply delete them: \n",
        "  # cleaner.fns[idx].unlink() \n",
        "  # and you can always delete the full folder later using \n",
        "  # shutil.rmtree(dest)"
      ],
      "metadata": {
        "id": "hBBGPGh96rF4"
      },
      "execution_count": null,
      "outputs": []
    },
    {
      "cell_type": "code",
      "source": [
        "#DONE! :)"
      ],
      "metadata": {
        "id": "ESraaXy1_y99"
      },
      "execution_count": null,
      "outputs": []
    },
    {
      "cell_type": "code",
      "source": [
        "!pip install voila\n",
        "!jupyter serverextension enable voila --sys-prefix"
      ],
      "metadata": {
        "id": "0cozuaBxmz5H"
      },
      "execution_count": null,
      "outputs": []
    },
    {
      "cell_type": "markdown",
      "source": [
        "# Testing It Out"
      ],
      "metadata": {
        "id": "BatehbherKE2"
      }
    },
    {
      "cell_type": "code",
      "source": [
        "#@markdown Enable this to use the .pkl file exported by the model. Leave it unchecked to use the model you just trained.\n",
        "use_existing_model = True #@param {type:\"boolean\"}\n",
        "\n",
        "if(use_existing_model):\n",
        "  learn = load_learner(\"pikachu_classifier\")"
      ],
      "metadata": {
        "id": "1y8_Z8UkWTC3"
      },
      "execution_count": null,
      "outputs": []
    },
    {
      "cell_type": "code",
      "source": [
        "!pip install ipywebrtc    \n"
      ],
      "metadata": {
        "colab": {
          "base_uri": "https://localhost:8080/"
        },
        "id": "FDSksq9WuGDC",
        "outputId": "91047add-787f-438b-97a2-daedfee2084f"
      },
      "execution_count": null,
      "outputs": [
        {
          "output_type": "stream",
          "name": "stdout",
          "text": [
            "Requirement already satisfied: ipywebrtc in /usr/local/lib/python3.7/dist-packages (0.6.0)\n"
          ]
        }
      ]
    },
    {
      "cell_type": "code",
      "source": [
        "import requests\n",
        "from io import BytesIO  "
      ],
      "metadata": {
        "id": "ugKSIERTf2IV"
      },
      "execution_count": null,
      "outputs": []
    },
    {
      "cell_type": "code",
      "source": [
        "def on_new_image_upload(change):\n",
        "  img = PILImage.create(btn_upload.data[-1])    \n",
        "  img_display.from_file(img)\n",
        "  on_new_image(img)\n",
        "def on_new_image_webcam(change):\n",
        "  #camera.close()\n",
        "  #image_recorder.close()\n",
        "  img = (image_recorder.image.value)  #PILImage.create(btn_upload.data[-1])    \n",
        "  img_display.value = (img) #img_display.from_file(img)\n",
        "  on_new_image(img)\n",
        "def on_new_image(img):    \n",
        "  out_pl.clear_output()\n",
        "  img_display.layout.visibility = 'visible'\n",
        "  img_display.layout.height = 640\n",
        "  with out_pl:  \n",
        "    pred,pred_idx,probs = learn.predict(img)    \n",
        "    lbl_pred.value = f'Prediction: {pred}; Probability: {probs[pred_idx]:.04f}'"
      ],
      "metadata": {
        "id": "FfwbCgljph8p"
      },
      "execution_count": null,
      "outputs": []
    },
    {
      "cell_type": "code",
      "source": [
        "from ipywebrtc import CameraStream, ImageRecorder\n",
        "from google.colab import output\n",
        "output.enable_custom_widget_manager()\n",
        "\n",
        "camera = CameraStream(constraints=\n",
        "                      {'facing_mode': 'user',\n",
        "                       'audio': False,\n",
        "                       'video': { 'width': 640, 'height': 480 }\n",
        "                       })\n",
        "image_recorder = ImageRecorder(stream=camera)\n",
        "image_recorder.image.observe(on_new_image_webcam, names=['value'])\n",
        "\n",
        "def take_photo(change):\n",
        "  img_display.layout.visibility = 'hidden'\n",
        "  img_display.layout.height = 1\n",
        "  with out_pl:\n",
        "    display(iwidgets.VBox([camera, image_recorder]))\n",
        "  "
      ],
      "metadata": {
        "id": "nZ-WoFYUtBK0"
      },
      "execution_count": null,
      "outputs": []
    },
    {
      "cell_type": "code",
      "source": [
        "btn_upload = iwidgets.FileUpload(multiple=False)\n",
        "btn_upload.observe(on_new_image_upload, names='_counter')\n",
        "btn_camera = iwidgets.Button(description=\"Camera\")\n",
        "btn_camera.on_click(take_photo)\n",
        "out_pl = iwidgets.Output()\n",
        "response = requests.get(\"https://cdn.vox-cdn.com/uploads/chorus_image/image/53254027/who_pokemon.0.jpg\")\n",
        "img = Image.open(BytesIO(response.content)).to_bytes_format() ##TODO fix namespace conflict for \"Image\" between PIL and something else...\n",
        "img_display = iwidgets.Image(\n",
        "    value=img,\n",
        "    format='png',\n",
        "    width=640,\n",
        "    height=480\n",
        ")\n",
        "lbl_pred = iwidgets.Label()"
      ],
      "metadata": {
        "colab": {
          "base_uri": "https://localhost:8080/",
          "height": 239
        },
        "id": "muQ9h_cRuOPu",
        "outputId": "d9e9614a-2769-4b81-d9af-b19d2d6e63dd"
      },
      "execution_count": null,
      "outputs": [
        {
          "output_type": "error",
          "ename": "AttributeError",
          "evalue": "ignored",
          "traceback": [
            "\u001b[0;31m---------------------------------------------------------------------------\u001b[0m",
            "\u001b[0;31mAttributeError\u001b[0m                            Traceback (most recent call last)",
            "\u001b[0;32m<ipython-input-90-614429456ae5>\u001b[0m in \u001b[0;36m<module>\u001b[0;34m()\u001b[0m\n\u001b[1;32m      5\u001b[0m \u001b[0mout_pl\u001b[0m \u001b[0;34m=\u001b[0m \u001b[0miwidgets\u001b[0m\u001b[0;34m.\u001b[0m\u001b[0mOutput\u001b[0m\u001b[0;34m(\u001b[0m\u001b[0;34m)\u001b[0m\u001b[0;34m\u001b[0m\u001b[0;34m\u001b[0m\u001b[0m\n\u001b[1;32m      6\u001b[0m \u001b[0mresponse\u001b[0m \u001b[0;34m=\u001b[0m \u001b[0mrequests\u001b[0m\u001b[0;34m.\u001b[0m\u001b[0mget\u001b[0m\u001b[0;34m(\u001b[0m\u001b[0;34m\"https://cdn.vox-cdn.com/uploads/chorus_image/image/53254027/who_pokemon.0.jpg\"\u001b[0m\u001b[0;34m)\u001b[0m\u001b[0;34m\u001b[0m\u001b[0;34m\u001b[0m\u001b[0m\n\u001b[0;32m----> 7\u001b[0;31m \u001b[0mimg\u001b[0m \u001b[0;34m=\u001b[0m \u001b[0mPILImage\u001b[0m\u001b[0;34m.\u001b[0m\u001b[0mopen\u001b[0m\u001b[0;34m(\u001b[0m\u001b[0mBytesIO\u001b[0m\u001b[0;34m(\u001b[0m\u001b[0mresponse\u001b[0m\u001b[0;34m.\u001b[0m\u001b[0mcontent\u001b[0m\u001b[0;34m)\u001b[0m\u001b[0;34m)\u001b[0m\u001b[0;34m.\u001b[0m\u001b[0mto_bytes_format\u001b[0m\u001b[0;34m(\u001b[0m\u001b[0;34m)\u001b[0m\u001b[0;34m\u001b[0m\u001b[0;34m\u001b[0m\u001b[0m\n\u001b[0m\u001b[1;32m      8\u001b[0m img_display = iwidgets.Image(\n\u001b[1;32m      9\u001b[0m     \u001b[0mvalue\u001b[0m\u001b[0;34m=\u001b[0m\u001b[0mimg\u001b[0m\u001b[0;34m,\u001b[0m\u001b[0;34m\u001b[0m\u001b[0;34m\u001b[0m\u001b[0m\n",
            "\u001b[0;31mAttributeError\u001b[0m: type object 'PILImage' has no attribute 'open'"
          ]
        }
      ]
    },
    {
      "cell_type": "code",
      "source": [
        ""
      ],
      "metadata": {
        "id": "Hfiy_MYGtxeq"
      },
      "execution_count": null,
      "outputs": []
    },
    {
      "cell_type": "code",
      "source": [
        "iwidgets.VBox([\n",
        "  iwidgets.Label('Select your \\'mon!'),\n",
        "  img_display,\n",
        "  out_pl,\n",
        "  iwidgets.HBox([btn_camera, btn_upload]), \n",
        "  lbl_pred\n",
        "]) "
      ],
      "metadata": {
        "colab": {
          "base_uri": "https://localhost:8080/",
          "height": 477,
          "referenced_widgets": [
            "944dea4154e34f518b7e1a259ed4ef38",
            "e14d628ff92f40268359cc791ab7a914",
            "3764fc61d3414379badf700242ec664d",
            "f8c20c0316354dd6bd7d609bb160ecb1",
            "7dab6b050ab64ea481b8451402b37a23",
            "b05f7e2e0e7f4f6d81b41d58ad0b4b9e",
            "efe25a6403b346dbafedbf04117ee051",
            "f6ac44426e574efab1193b5fbef41bac",
            "9cb712f7cacc42dda3755c5c2f34d4c2",
            "be78cc01f4844a43be69d62a026c666c",
            "ac38ef3276ef4da494703451bac885e9",
            "c10da1be6a7544e3bf162d82c83ce7fa",
            "4ab1e5380e5f4902a895620a8ff535dc",
            "7eed640eaecd4a96b13f8cfd0cf9b590",
            "32c1052cfec44b008c8fb2a05996f642",
            "c9bc5f9f3f274a2aabf1f3645afab74c",
            "de2423669f5e4cb99a77e67b219dc98b",
            "d66e883c7ee14ebd8eaf7da9914d9219",
            "6adcc99357f74a238836e8fa2740534c",
            "6f4090ef81304ff896ab6973a58239b0"
          ]
        },
        "id": "K970mki7t98l",
        "outputId": "ea0cb936-4d2e-4a03-b1da-7c7e640a775e"
      },
      "execution_count": null,
      "outputs": [
        {
          "output_type": "display_data",
          "data": {
            "application/vnd.jupyter.widget-view+json": {
              "model_id": "944dea4154e34f518b7e1a259ed4ef38",
              "version_minor": 0,
              "version_major": 2
            },
            "text/plain": [
              "VBox(children=(Label(value=\"Select your 'mon!\"), Image(value=b'\\x89PNG\\r\\n\\x1a\\n\\x00\\x00\\x00\\rIHDR\\x00\\x00\\x07…"
            ]
          },
          "metadata": {
            "application/vnd.jupyter.widget-view+json": {
              "colab": {
                "custom_widget_manager": {
                  "url": "https://ssl.gstatic.com/colaboratory-static/widgets/colab-cdn-widget-manager/a8874ba6619b6106/manager.min.js"
                }
              }
            }
          }
        }
      ]
    },
    {
      "cell_type": "code",
      "source": [
        ""
      ],
      "metadata": {
        "id": "xdbhPxj05eM_"
      },
      "execution_count": null,
      "outputs": []
    },
    {
      "cell_type": "code",
      "source": [
        "from IPython.display import Image\n",
        "try:\n",
        "  filename = take_photo()\n",
        "  print('Saved to {}'.format(filename))\n",
        "  \n",
        "  # Show the image which was just taken.\n",
        "  display(Image(filename))\n",
        "except Exception as err:\n",
        "  # Errors will be thrown if the user does not have a webcam or if they do not\n",
        "  # grant the page permission to access it.\n",
        "  print(str(err))"
      ],
      "metadata": {
        "colab": {
          "base_uri": "https://localhost:8080/"
        },
        "id": "xPWTA-ms_E2i",
        "outputId": "68167010-ef8e-4683-cf8d-c37257f3a79a"
      },
      "execution_count": null,
      "outputs": [
        {
          "output_type": "stream",
          "name": "stdout",
          "text": [
            "take_photo() missing 1 required positional argument: 'change'\n"
          ]
        }
      ]
    }
  ]
}